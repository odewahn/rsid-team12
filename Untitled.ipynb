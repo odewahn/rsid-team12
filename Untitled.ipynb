{
 "cells": [
  {
   "cell_type": "code",
   "execution_count": 1,
   "metadata": {},
   "outputs": [],
   "source": [
    "import tabix"
   ]
  },
  {
   "cell_type": "code",
   "execution_count": 4,
   "metadata": {},
   "outputs": [
    {
     "name": "stdout",
     "output_type": "stream",
     "text": [
      "##fileformat=VCFv4.0\r\n",
      "##fileDate=20170710\r\n",
      "##source=dbSNP\r\n",
      "##dbSNP_BUILD_ID=150\r\n",
      "##reference=GRCh37.p13\r\n",
      "##phasing=partial\r\n",
      "##variationPropertyDocumentationUrl=ftp://ftp.ncbi.nlm.nih.gov/snp/specs/dbSNP_BitField_latest.pdf\t\r\n",
      "##INFO=<ID=RS,Number=1,Type=Integer,Description=\"dbSNP ID (i.e. rs number)\">\r\n",
      "##INFO=<ID=RSPOS,Number=1,Type=Integer,Description=\"Chr position reported in dbSNP\">\r\n",
      "##INFO=<ID=RV,Number=0,Type=Flag,Description=\"RS orientation is reversed\">\r\n",
      "##INFO=<ID=VP,Number=1,Type=String,Description=\"Variation Property.  Documentation is at ftp://ftp.ncbi.nlm.nih.gov/snp/specs/dbSNP_BitField_latest.pdf\">\r\n",
      "##INFO=<ID=GENEINFO,Number=1,Type=String,Description=\"Pairs each of gene symbol:gene id.  The gene symbol and id are delimited by a colon (:) and each pair is delimited by a vertical bar (|)\">\r\n",
      "##INFO=<ID=dbSNPBuildID,Number=1,Type=Integer,Description=\"First dbSNP Build for RS\">\r\n",
      "##INFO=<ID=SAO,Number=1,Type=Integer,Description=\"Variant Allele Origin: 0 - unspecified, 1 - Germline, 2 - Somatic, 3 - Both\">\r\n",
      "##INFO=<ID=SSR,Number=1,Type=Integer,Description=\"Variant Suspect Reason Codes (may be more than one value added together) 0 - unspecified, 1 - Paralog, 2 - byEST, 4 - oldAlign, 8 - Para_EST, 16 - 1kg_failed, 1024 - other\">\r\n",
      "##INFO=<ID=WGT,Number=1,Type=Integer,Description=\"Weight, 00 - unmapped, 1 - weight 1, 2 - weight 2, 3 - weight 3 or more\">\r\n",
      "##INFO=<ID=VC,Number=1,Type=String,Description=\"Variation Class\">\r\n",
      "##INFO=<ID=PM,Number=0,Type=Flag,Description=\"Variant is Precious(Clinical,Pubmed Cited)\">\r\n",
      "##INFO=<ID=TPA,Number=0,Type=Flag,Description=\"Provisional Third Party Annotation(TPA) (currently rs from PHARMGKB who will give phenotype data)\">\r\n",
      "##INFO=<ID=PMC,Number=0,Type=Flag,Description=\"Links exist to PubMed Central article\">\r\n",
      "##INFO=<ID=S3D,Number=0,Type=Flag,Description=\"Has 3D structure - SNP3D table\">\r\n",
      "##INFO=<ID=SLO,Number=0,Type=Flag,Description=\"Has SubmitterLinkOut - From SNP->SubSNP->Batch.link_out\">\r\n",
      "##INFO=<ID=NSF,Number=0,Type=Flag,Description=\"Has non-synonymous frameshift A coding region variation where one allele in the set changes all downstream amino acids. FxnClass = 44\">\r\n",
      "##INFO=<ID=NSM,Number=0,Type=Flag,Description=\"Has non-synonymous missense A coding region variation where one allele in the set changes protein peptide. FxnClass = 42\">\r\n",
      "##INFO=<ID=NSN,Number=0,Type=Flag,Description=\"Has non-synonymous nonsense A coding region variation where one allele in the set changes to STOP codon (TER). FxnClass = 41\">\r\n",
      "##INFO=<ID=REF,Number=0,Type=Flag,Description=\"Has reference A coding region variation where one allele in the set is identical to the reference sequence. FxnCode = 8\">\r\n",
      "##INFO=<ID=SYN,Number=0,Type=Flag,Description=\"Has synonymous A coding region variation where one allele in the set does not change the encoded amino acid. FxnCode = 3\">\r\n",
      "##INFO=<ID=U3,Number=0,Type=Flag,Description=\"In 3' UTR Location is in an untranslated region (UTR). FxnCode = 53\">\r\n",
      "##INFO=<ID=U5,Number=0,Type=Flag,Description=\"In 5' UTR Location is in an untranslated region (UTR). FxnCode = 55\">\r\n",
      "##INFO=<ID=ASS,Number=0,Type=Flag,Description=\"In acceptor splice site FxnCode = 73\">\r\n",
      "##INFO=<ID=DSS,Number=0,Type=Flag,Description=\"In donor splice-site FxnCode = 75\">\r\n",
      "##INFO=<ID=INT,Number=0,Type=Flag,Description=\"In Intron FxnCode = 6\">\r\n",
      "##INFO=<ID=R3,Number=0,Type=Flag,Description=\"In 3' gene region FxnCode = 13\">\r\n",
      "##INFO=<ID=R5,Number=0,Type=Flag,Description=\"In 5' gene region FxnCode = 15\">\r\n",
      "##INFO=<ID=OTH,Number=0,Type=Flag,Description=\"Has other variant with exactly the same set of mapped positions on NCBI refernce assembly.\">\r\n",
      "##INFO=<ID=CFL,Number=0,Type=Flag,Description=\"Has Assembly conflict. This is for weight 1 and 2 variant that maps to different chromosomes on different assemblies.\">\r\n",
      "##INFO=<ID=ASP,Number=0,Type=Flag,Description=\"Is Assembly specific. This is set if the variant only maps to one assembly\">\r\n",
      "##INFO=<ID=MUT,Number=0,Type=Flag,Description=\"Is mutation (journal citation, explicit fact): a low frequency variation that is cited in journal and other reputable sources\">\r\n",
      "##INFO=<ID=VLD,Number=0,Type=Flag,Description=\"Is Validated.  This bit is set if the variant has 2+ minor allele count based on frequency or genotype data.\">\r\n",
      "##INFO=<ID=G5A,Number=0,Type=Flag,Description=\">5% minor allele frequency in each and all populations\">\r\n",
      "##INFO=<ID=G5,Number=0,Type=Flag,Description=\">5% minor allele frequency in 1+ populations\">\r\n",
      "##INFO=<ID=HD,Number=0,Type=Flag,Description=\"Marker is on high density genotyping kit (50K density or greater).  The variant may have phenotype associations present in dbGaP.\">\r\n",
      "##INFO=<ID=GNO,Number=0,Type=Flag,Description=\"Genotypes available. The variant has individual genotype (in SubInd table).\">\r\n",
      "##INFO=<ID=KGPhase1,Number=0,Type=Flag,Description=\"1000 Genome phase 1 (incl. June Interim phase 1)\">\r\n",
      "##INFO=<ID=KGPhase3,Number=0,Type=Flag,Description=\"1000 Genome phase 3\">\r\n",
      "##INFO=<ID=CDA,Number=0,Type=Flag,Description=\"Variation is interrogated in a clinical diagnostic assay\">\r\n",
      "##INFO=<ID=LSD,Number=0,Type=Flag,Description=\"Submitted from a locus-specific database\">\r\n",
      "##INFO=<ID=MTP,Number=0,Type=Flag,Description=\"Microattribution/third-party annotation(TPA:GWAS,PAGE)\">\r\n",
      "##INFO=<ID=OM,Number=0,Type=Flag,Description=\"Has OMIM/OMIA\">\r\n",
      "##INFO=<ID=NOC,Number=0,Type=Flag,Description=\"Contig allele not present in variant allele list. The reference sequence allele at the mapped position is not present in the variant allele list, adjusted for orientation.\">\r\n",
      "##INFO=<ID=WTD,Number=0,Type=Flag,Description=\"Is Withdrawn by submitter If one member ss is withdrawn by submitter, then this bit is set.  If all member ss' are withdrawn, then the rs is deleted to SNPHistory\">\r\n",
      "##INFO=<ID=NOV,Number=0,Type=Flag,Description=\"Rs cluster has non-overlapping allele sets. True when rs set has more than 2 alleles from different submissions and these sets share no alleles in common.\">\r\n",
      "##FILTER=<ID=NC,Description=\"Inconsistent Genotype Submission For At Least One Sample\">\r\n",
      "##INFO=<ID=CAF,Number=.,Type=String,Description=\"An ordered, comma delimited list of allele frequencies based on 1000Genomes, starting with the reference allele followed by alternate alleles as ordered in the ALT column. Where a 1000Genomes alternate allele is not in the dbSNPs alternate allele set, the allele is added to the ALT column. The minor allele is the second largest value in the list, and was previuosly reported in VCF as the GMAF. This is the GMAF reported on the RefSNP and EntrezSNP pages and VariationReporter\">\r\n",
      "##INFO=<ID=COMMON,Number=1,Type=Integer,Description=\"RS is a common SNP.  A common SNP is one that has at least one 1000Genomes population with a minor allele of frequency >= 1% and for which 2 or more founders contribute to that minor allele frequency.\">\r\n",
      "##INFO=<ID=TOPMED,Number=.,Type=String,Description=\"An ordered, comma delimited list of allele frequencies based on TOPMed, starting with the reference allele followed by alternate alleles as ordered in the ALT column. The TOPMed minor allele is the second largest value in the list.\">\r\n",
      "#CHROM\tPOS\tID\tREF\tALT\tQUAL\tFILTER\tINFO\r\n",
      "1\t10177\trs367896724\tA\tAC\t.\t.\tRS=367896724;RSPOS=10177;dbSNPBuildID=138;SSR=0;SAO=0;VP=0x050000020005170026000200;GENEINFO=DDX11L1:100287102;WGT=1;VC=DIV;R5;ASP;VLD;G5A;G5;KGPhase3;CAF=0.5747,0.4253;COMMON=1\r\n",
      "1\t10352\trs555500075\tT\tTA\t.\t.\tRS=555500075;RSPOS=10352;dbSNPBuildID=142;SSR=0;SAO=0;VP=0x050000020005170026000200;GENEINFO=DDX11L1:100287102;WGT=1;VC=DIV;R5;ASP;VLD;G5A;G5;KGPhase3;CAF=0.5625,0.4375;COMMON=1\r\n",
      "1\t10352\trs145072688\tT\tTA\t.\t.\tRS=145072688;RSPOS=10353;dbSNPBuildID=134;SSR=0;SAO=0;VP=0x050000020005000002000200;GENEINFO=DDX11L1:100287102;WGT=1;VC=DIV;R5;ASP;CAF=0.5625,0.4375;COMMON=1\r\n",
      "1\t10616\trs376342519\tCCGCCGTTGCAAAGGCGCGCCG\tC\t.\t.\tRS=376342519;RSPOS=10617;dbSNPBuildID=142;SSR=0;SAO=0;VP=0x050000020005040026000200;GENEINFO=DDX11L1:100287102;WGT=1;VC=DIV;R5;ASP;VLD;KGPhase3;CAF=0.006989,0.993;COMMON=1\r\n",
      "1\t10642\trs558604819\tG\tA\t.\t.\tRS=558604819;RSPOS=10642;dbSNPBuildID=142;SSR=0;SAO=0;VP=0x050000020005040024000100;GENEINFO=DDX11L1:100287102;WGT=1;VC=SNV;R5;ASP;VLD;KGPhase3;CAF=0.9958,0.004193;COMMON=1\r\n",
      "1\t11008\trs575272151\tC\tG\t.\t.\tRS=575272151;RSPOS=11008;dbSNPBuildID=142;SSR=0;SAO=0;VP=0x050000020005150024000100;GENEINFO=DDX11L1:100287102;WGT=1;VC=SNV;R5;ASP;VLD;G5;KGPhase3;CAF=0.9119,0.08806;COMMON=1\r\n",
      "1\t11012\trs544419019\tC\tG\t.\t.\tRS=544419019;RSPOS=11012;dbSNPBuildID=142;SSR=0;SAO=0;VP=0x050000020005150024000100;GENEINFO=DDX11L1:100287102;WGT=1;VC=SNV;R5;ASP;VLD;G5;KGPhase3;CAF=0.9119,0.08806;COMMON=1\r\n",
      "1\t11063\trs561109771\tT\tG\t.\t.\tRS=561109771;RSPOS=11063;dbSNPBuildID=142;SSR=0;SAO=0;VP=0x050000020005040024000100;GENEINFO=DDX11L1:100287102;WGT=1;VC=SNV;R5;ASP;VLD;KGPhase3;CAF=0.997,0.002995;COMMON=1\r\n",
      "1\t13110\trs540538026\tG\tA\t.\t.\tRS=540538026;RSPOS=13110;dbSNPBuildID=142;SSR=0;SAO=0;VP=0x050000080005150026000100;GENEINFO=DDX11L1:100287102;WGT=1;VC=SNV;INT;ASP;VLD;G5;KGPhase3;CAF=0.9732,0.02676;COMMON=1\r\n",
      "1\t13116\trs62635286\tT\tG\t.\t.\tRS=62635286;RSPOS=13116;dbSNPBuildID=129;SSR=0;SAO=0;VP=0x050000080005150126000100;GENEINFO=DDX11L1:100287102;WGT=1;VC=SNV;INT;ASP;VLD;G5;GNO;KGPhase3;CAF=0.903,0.09704;COMMON=1\r\n",
      "1\t13118\trs62028691\tA\tG\t.\t.\tRS=62028691;RSPOS=13118;RV;dbSNPBuildID=130;SSR=0;SAO=0;VP=0x050000080005140126000100;GENEINFO=DDX11L1:100287102;WGT=1;VC=SNV;INT;ASP;VLD;GNO;KGPhase3;CAF=0.903,0.09704;COMMON=1\r\n",
      "1\t13273\trs531730856\tG\tC\t.\t.\tRS=531730856;RSPOS=13273;dbSNPBuildID=142;SSR=0;SAO=0;VP=0x050100000005150026000100;GENEINFO=DDX11L1:100287102;WGT=1;VC=SNV;SLO;ASP;VLD;G5;KGPhase3;CAF=0.905,0.09505;COMMON=1\r\n",
      "1\t13284\trs548333521\tG\tA\t.\t.\tRS=548333521;RSPOS=13284;dbSNPBuildID=142;SSR=0;SAO=0;VP=0x050000000005040024000100;GENEINFO=DDX11L1:100287102;WGT=1;VC=SNV;ASP;VLD;KGPhase3;CAF=0.9986,0.001398;COMMON=1\r\n",
      "1\t13289\trs538791886\tCCT\tC\t.\t.\tRS=538791886;RSPOS=13290;dbSNPBuildID=142;SSR=0;SAO=0;VP=0x050000000005040026000200;GENEINFO=DDX11L1:100287102;WGT=1;VC=DIV;ASP;VLD;KGPhase3;CAF=0.996,0.003994;COMMON=1\r\n",
      "1\t13380\trs571093408\tC\tG\t.\t.\tRS=571093408;RSPOS=13380;dbSNPBuildID=142;SSR=0;SAO=0;VP=0x050000000005040026000100;GENEINFO=DDX11L1:100287102;WGT=1;VC=SNV;ASP;VLD;KGPhase3;CAF=0.9918,0.008187;COMMON=1\r\n",
      "1\t13445\trs558318514\tC\tG\t.\t.\tRS=558318514;RSPOS=13445;dbSNPBuildID=142;SSR=0;SAO=0;VP=0x050000000005040026000100;GENEINFO=DDX11L1:100287102;WGT=1;VC=SNV;ASP;VLD;KGPhase3;CAF=0.9994,0.000599;COMMON=1\r\n",
      "1\t13453\trs568927457\tT\tC\t.\t.\tRS=568927457;RSPOS=13453;dbSNPBuildID=142;SSR=0;SAO=0;VP=0x050000000005040026000100;GENEINFO=DDX11L1:100287102;WGT=1;VC=SNV;ASP;VLD;KGPhase3;CAF=0.9992,0.0007987;COMMON=1\r\n",
      "1\t13483\trs554760071\tG\tC\t.\t.\tRS=554760071;RSPOS=13483;dbSNPBuildID=142;SSR=0;SAO=0;VP=0x050000000005040026000100;GENEINFO=DDX11L1:100287102;WGT=1;VC=SNV;ASP;VLD;KGPhase3;CAF=0.998,0.001997;COMMON=1\r\n",
      "1\t13550\trs554008981\tG\tA\t.\t.\tRS=554008981;RSPOS=13550;dbSNPBuildID=142;SSR=0;SAO=0;VP=0x050000000005040026000100;GENEINFO=DDX11L1:100287102;WGT=1;VC=SNV;ASP;VLD;KGPhase3;CAF=0.9966,0.003395;COMMON=1\r\n",
      "1\t14464\trs546169444\tA\tT\t.\t.\tRS=546169444;RSPOS=14464;dbSNPBuildID=142;SSR=0;SAO=0;VP=0x050100040005150026000100;GENEINFO=DDX11L1:100287102|WASH7P:653635;WGT=1;VC=SNV;SLO;R3;ASP;VLD;G5;KGPhase3;CAF=0.9042,0.09585;COMMON=1\r\n",
      "1\t14599\trs707680\tT\tA\t.\t.\tRS=707680;RSPOS=14599;RV;dbSNPBuildID=86;SSR=0;SAO=0;VP=0x050000040005030026000100;GENEINFO=DDX11L1:100287102|WASH7P:653635;WGT=1;VC=SNV;R3;ASP;G5A;G5;KGPhase3;CAF=0.8524,0.1476;COMMON=1\r\n",
      "1\t14604\trs541940975\tA\tG\t.\t.\tRS=541940975;RSPOS=14604;dbSNPBuildID=142;SSR=0;SAO=0;VP=0x050000040005170026000100;GENEINFO=DDX11L1:100287102|WASH7P:653635;WGT=1;VC=SNV;R3;ASP;VLD;G5A;G5;KGPhase3;CAF=0.8524,0.1476;COMMON=1\r\n",
      "1\t14930\trs6682385\tA\tG\t.\t.\tRS=6682385;RSPOS=14930;dbSNPBuildID=116;SSR=0;SAO=0;VP=0x050100080005140126000100;GENEINFO=WASH7P:653635;WGT=1;VC=SNV;SLO;INT;ASP;VLD;GNO;KGPhase3;CAF=0.5178,0.4822;COMMON=1\r\n"
     ]
    }
   ],
   "source": [
    "cat filers.vcf"
   ]
  },
  {
   "cell_type": "code",
   "execution_count": 6,
   "metadata": {},
   "outputs": [],
   "source": [
    "!cat filers.vcf \\\n",
    "   | awk -v OFS=\"\\t\" '{ print $1,$3,$4,$5 }' \\\n",
    "   | sort -k1,3 \\\n",
    "   > sortedbyID.txt"
   ]
  },
  {
   "cell_type": "code",
   "execution_count": 14,
   "metadata": {},
   "outputs": [
    {
     "ename": "IndentationError",
     "evalue": "unexpected indent (<ipython-input-14-2664a4a4acbc>, line 2)",
     "output_type": "error",
     "traceback": [
      "\u001b[0;36m  File \u001b[0;32m\"<ipython-input-14-2664a4a4acbc>\"\u001b[0;36m, line \u001b[0;32m2\u001b[0m\n\u001b[0;31m    do tabix filers.vcf \"$P\"\u001b[0m\n\u001b[0m    ^\u001b[0m\n\u001b[0;31mIndentationError\u001b[0m\u001b[0;31m:\u001b[0m unexpected indent\n"
     ]
    }
   ],
   "source": [
    "!sqlite3 index.db 'select chrom,position from dbsnp-rs.json where rsID=\"rs376342519\"'| awk -F '|' '{printf(\"%s:%s-%s\\n\",$3,$3,$3);}'|\\\n",
    "     while read P; \n",
    "         do tabix test.vcf \"$P\"\n",
    "     done"
   ]
  },
  {
   "cell_type": "code",
   "execution_count": null,
   "metadata": {},
   "outputs": [],
   "source": []
  }
 ],
 "metadata": {
  "kernelspec": {
   "display_name": "Python 2",
   "language": "python",
   "name": "python2"
  },
  "language_info": {
   "codemirror_mode": {
    "name": "ipython",
    "version": 2
   },
   "file_extension": ".py",
   "mimetype": "text/x-python",
   "name": "python",
   "nbconvert_exporter": "python",
   "pygments_lexer": "ipython2",
   "version": "2.7.14"
  }
 },
 "nbformat": 4,
 "nbformat_minor": 2
}
