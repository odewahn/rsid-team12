{
 "cells": [
  {
   "cell_type": "code",
   "execution_count": 21,
   "metadata": {},
   "outputs": [],
   "source": [
    "import sqlite3"
   ]
  },
  {
   "cell_type": "code",
   "execution_count": 22,
   "metadata": {},
   "outputs": [],
   "source": [
    "db_path = 'index.db'\n",
    "conn = sqlite3.connect(db_path)\n",
    "c = conn.cursor()\n"
   ]
  },
  {
   "cell_type": "code",
   "execution_count": 23,
   "metadata": {},
   "outputs": [],
   "source": [
    "def create():\n",
    "    try:\n",
    "        c.execute(\"\"\"CREATE TABLE rs (chr,pos,rsID)\"\"\")\n",
    "    except:\n",
    "        pass"
   ]
  },
  {
   "cell_type": "code",
   "execution_count": 24,
   "metadata": {},
   "outputs": [],
   "source": [
    "create()"
   ]
  },
  {
   "cell_type": "code",
   "execution_count": 25,
   "metadata": {},
   "outputs": [
    {
     "data": {
      "text/plain": [
       "{'rs145072688': {'chr': '1', 'start_pos': '10352'},\n",
       " 'rs367896724': {'chr': '1', 'start_pos': '10177'},\n",
       " 'rs376342519': {'chr': '1', 'start_pos': '10616'},\n",
       " 'rs531730856': {'chr': '1', 'start_pos': '13273'},\n",
       " 'rs538791886': {'chr': '1', 'start_pos': '13289'},\n",
       " 'rs540538026': {'chr': '1', 'start_pos': '13110'},\n",
       " 'rs541940975': {'chr': '1', 'start_pos': '14604'},\n",
       " 'rs544419019': {'chr': '1', 'start_pos': '11012'},\n",
       " 'rs546169444': {'chr': '1', 'start_pos': '14464'},\n",
       " 'rs548333521': {'chr': '1', 'start_pos': '13284'},\n",
       " 'rs554008981': {'chr': '1', 'start_pos': '13550'},\n",
       " 'rs554760071': {'chr': '1', 'start_pos': '13483'},\n",
       " 'rs555500075': {'chr': '1', 'start_pos': '10352'},\n",
       " 'rs558318514': {'chr': '1', 'start_pos': '13445'},\n",
       " 'rs558604819': {'chr': '1', 'start_pos': '10642'},\n",
       " 'rs561109771': {'chr': '1', 'start_pos': '11063'},\n",
       " 'rs568927457': {'chr': '1', 'start_pos': '13453'},\n",
       " 'rs571093408': {'chr': '1', 'start_pos': '13380'},\n",
       " 'rs575272151': {'chr': '1', 'start_pos': '11008'},\n",
       " 'rs62028691': {'chr': '1', 'start_pos': '13118'},\n",
       " 'rs62635286': {'chr': '1', 'start_pos': '13116'},\n",
       " 'rs6682385': {'chr': '1', 'start_pos': '14930'},\n",
       " 'rs707680': {'chr': '1', 'start_pos': '14599'}}"
      ]
     },
     "execution_count": 25,
     "metadata": {},
     "output_type": "execute_result"
    }
   ],
   "source": [
    "fn = 'rs-subset.txt'  \n",
    "qbfile = open(fn,\"r\")\n",
    "\n",
    "rsVals = {}\n",
    "for aline in qbfile:\n",
    "    if aline:\n",
    "        if aline[0] != \"#\":\n",
    "            vals = aline.split(\"\\t\")\n",
    "            c.execute(\"INSERT INTO rs (chr, pos, rsID) values (?,?,?);\", (vals[0],vals[1],vals[2]))\n",
    "            rsVals[vals[2]] = {\n",
    "                \"chr\": vals[0],\n",
    "                \"start_pos\": vals[1]\n",
    "            }\n",
    "            \n",
    "qbfile.close()\n",
    "conn.commit()\n",
    "c.close()\n",
    "rsVals"
   ]
  },
  {
   "cell_type": "code",
   "execution_count": 26,
   "metadata": {},
   "outputs": [],
   "source": [
    "conn.commit()"
   ]
  },
  {
   "cell_type": "code",
   "execution_count": 5,
   "metadata": {},
   "outputs": [],
   "source": [
    "import json"
   ]
  },
  {
   "cell_type": "code",
   "execution_count": 6,
   "metadata": {},
   "outputs": [],
   "source": [
    "with open('dbsnp-rs.json', 'w') as outfile:\n",
    "    json.dump(json.dumps(rsVals, indent=4), outfile)\n"
   ]
  },
  {
   "cell_type": "code",
   "execution_count": 7,
   "metadata": {},
   "outputs": [],
   "source": [
    "import tabix"
   ]
  },
  {
   "cell_type": "code",
   "execution_count": null,
   "metadata": {},
   "outputs": [],
   "source": []
  }
 ],
 "metadata": {
  "kernelspec": {
   "display_name": "Python 2",
   "language": "python",
   "name": "python2"
  },
  "language_info": {
   "codemirror_mode": {
    "name": "ipython",
    "version": 2
   },
   "file_extension": ".py",
   "mimetype": "text/x-python",
   "name": "python",
   "nbconvert_exporter": "python",
   "pygments_lexer": "ipython2",
   "version": "2.7.14"
  }
 },
 "nbformat": 4,
 "nbformat_minor": 2
}
